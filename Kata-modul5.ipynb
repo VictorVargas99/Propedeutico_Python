{
 "cells": [
  {
   "cell_type": "code",
   "execution_count": 20,
   "metadata": {},
   "outputs": [
    {
     "name": "stdout",
     "output_type": "stream",
     "text": [
      "-628.85933\n",
      "628.9493299999999\n",
      "390.57753392999996\n"
     ]
    }
   ],
   "source": [
    "# Crear variables para almacenar las dos distancias\n",
    "# ¡Asegúrate de quitar las comas!\n",
    "\n",
    "Tierra = 149.597870\n",
    "Júpiter = 778.547200\n",
    "\n",
    "difference_beteewn = 149.597870 - 778.457200 \n",
    "print(difference_beteewn)\n",
    "\n",
    "difference_beteewn_abs = abs (149.597870 - 778.547200)\n",
    "print(difference_beteewn_abs)\n",
    "\n",
    "difference_beteewn_milles = abs (difference_beteewn_abs) * 0.621\n",
    "print(difference_beteewn_milles)"
   ]
  },
  {
   "cell_type": "markdown",
   "metadata": {},
   "source": []
  },
  {
   "cell_type": "code",
   "execution_count": 25,
   "metadata": {},
   "outputs": [],
   "source": [
    "# Almacenar las entradas del usuario\n",
    "M = input(579.00000) \n",
    "V = input(108.200000)"
   ]
  },
  {
   "cell_type": "code",
   "execution_count": 32,
   "metadata": {},
   "outputs": [
    {
     "name": "stdout",
     "output_type": "stream",
     "text": [
      "579\n",
      "108\n"
     ]
    }
   ],
   "source": [
    "# Convierte las cadenas de ambos planetas a números enteros\n",
    "Mercurio = int(579.00000)\n",
    "Venus = int(108.200000)\n",
    "print(Mercurio)\n",
    "print(Venus)"
   ]
  },
  {
   "cell_type": "code",
   "execution_count": 36,
   "metadata": {},
   "outputs": [
    {
     "name": "stdout",
     "output_type": "stream",
     "text": [
      "-471\n",
      "292.491\n"
     ]
    }
   ],
   "source": [
    "distance_km = Venus - Mercurio\n",
    "print(distance_km)\n",
    "\n",
    "distance_milles = distance_km * 0.621\n",
    "print(abs(distance_milles))"
   ]
  }
 ],
 "metadata": {
  "interpreter": {
   "hash": "38740d3277777e2cd7c6c2cc9d8addf5118fdf3f82b1b39231fd12aeac8aee8b"
  },
  "kernelspec": {
   "display_name": "Python 3.9.10 64-bit",
   "language": "python",
   "name": "python3"
  },
  "language_info": {
   "codemirror_mode": {
    "name": "ipython",
    "version": 3
   },
   "file_extension": ".py",
   "mimetype": "text/x-python",
   "name": "python",
   "nbconvert_exporter": "python",
   "pygments_lexer": "ipython3",
   "version": "3.9.10"
  },
  "orig_nbformat": 4
 },
 "nbformat": 4,
 "nbformat_minor": 2
}
